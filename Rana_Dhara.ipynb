{
  "nbformat": 4,
  "nbformat_minor": 0,
  "metadata": {
    "colab": {
      "name": "Rana Dhara.ipynb",
      "provenance": []
    },
    "kernelspec": {
      "name": "python3",
      "display_name": "Python 3"
    },
    "language_info": {
      "name": "python"
    }
  },
  "cells": [
    {
      "cell_type": "code",
      "metadata": {
        "id": "yyjCockM-W6P"
      },
      "source": [
        "import numpy as np\n",
        "import pandas as pd\n",
        "import sklearn \n",
        "from sklearn.datasets import load_boston\n",
        "df=load_boston()\n",
        "df.keys()\n",
        "print (df.DESCR)\n",
        "df.keys()\n",
        "print (df.filename)\n",
        "boston = pd.DataFrame(df.data, columns=df.feature_names)\n",
        "boston.head()\n",
        "boston ['MEDV'] = df.target\n",
        "boston.head()\n",
        "boston.isnull()\n",
        "from sklearn.model_selection import train_test_split\n",
        "X = boston.drop('MEDV', axis=1)\n",
        "Y = boston['Medv']\n",
        "X_train, X_test, Y_train ,Y_test = train_test_split(X ,Y , test_size = 0.15 ,random_states=5)\n",
        "print (X_train.shape)\n",
        "print (X_test.shape)\n",
        "print (Y_train.shape)\n",
        "print (Y_test.shape)\n",
        "from sklearn.linear_model import LinearRegression\n",
        "from sklearn.metrics import mean_squared_error\n",
        "\n",
        "lin_model= LinearRegression ()\n",
        "lin_model.fit(X_train , Y_train)\n",
        "\n",
        "y_train_predict = lin_model.y_train_predict(X_train)\n",
        "rmse= (np.sqrt(mean_squared_error(Y_train,y_train_predict)))\n",
        "\n",
        "\n",
        "print(\"This model performance for training set\")\n",
        "print('RMSE is {}'.format(rmse))\n",
        "print(\"\\n\")\n",
        " \n",
        "y_test_predict = lin_model.predict(X_test)\n",
        "rmse= (np.sqrt(mean_squared_error(Y_test, y_test_predict)))\n",
        "  \n",
        "print(\"This model performance for testing set\")\n",
        "print('RMSE is {}'.format(rmse))\n"
      ],
      "execution_count": null,
      "outputs": []
    },
    {
      "cell_type": "code",
      "metadata": {
        "id": "cjpMbGEDHM0f"
      },
      "source": [
        ""
      ],
      "execution_count": null,
      "outputs": []
    }
  ]
}